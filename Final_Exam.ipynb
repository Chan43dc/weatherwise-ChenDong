{
  "nbformat": 4,
  "nbformat_minor": 0,
  "metadata": {
    "colab": {
      "provenance": [],
      "authorship_tag": "ABX9TyO6jyVKg6jYZkHhGhFuUO8v",
      "include_colab_link": true
    },
    "kernelspec": {
      "name": "python3",
      "display_name": "Python 3"
    },
    "language_info": {
      "name": "python"
    }
  },
  "cells": [
    {
      "cell_type": "markdown",
      "metadata": {
        "id": "view-in-github",
        "colab_type": "text"
      },
      "source": [
        "<a href=\"https://colab.research.google.com/github/Chan43dc/weatherwise-ChenDong/blob/main/Final_Exam.ipynb\" target=\"_parent\"><img src=\"https://colab.research.google.com/assets/colab-badge.svg\" alt=\"Open In Colab\"/></a>"
      ]
    },
    {
      "cell_type": "code",
      "execution_count": null,
      "metadata": {
        "colab": {
          "base_uri": "https://localhost:8080/"
        },
        "id": "pPeJ8d2GO0Ua",
        "outputId": "974f6db7-f5c6-469d-acc9-9f737a964f27"
      },
      "outputs": [
        {
          "output_type": "stream",
          "name": "stdout",
          "text": [
            "Added: Buy milk\n",
            "Added: Pay bills\n",
            "Added: Walk dog\n",
            "1: Buy milk\n",
            "2: Pay bills\n",
            "3: Walk dog\n",
            "Removed: Pay bills\n",
            "1: Buy milk\n",
            "2: Walk dog\n"
          ]
        }
      ],
      "source": [
        "tasks = []\n",
        "\n",
        "def add_task(task):\n",
        "    \"\"\"\n",
        "    Add a task to the task list.\n",
        "\n",
        "    >>> tasks.clear()\n",
        "    >>> add_task(\"Buy milk\")\n",
        "    Added: Buy milk\n",
        "    >>> tasks\n",
        "    ['Buy milk']\n",
        "    \"\"\"\n",
        "    tasks.append(task)\n",
        "    print(f\"Added: {task}\")\n",
        "\n",
        "\n",
        "def remove_task(index):\n",
        "    \"\"\"\n",
        "    Remove task at given index from task list (if valid).\n",
        "\n",
        "    >>> tasks.clear()\n",
        "    >>> add_task(\"Test task\")\n",
        "    Added: Test task\n",
        "    >>> remove_task(0)\n",
        "    Removed: Test task\n",
        "    \"\"\"\n",
        "    if isinstance(index, int) and 0 <= index < len(tasks):\n",
        "        removed = tasks[index]\n",
        "        del tasks[index]\n",
        "        print(f\"Removed: {removed}\")\n",
        "    else:\n",
        "        print(\"Invalid index!\")\n",
        "\n",
        "\n",
        "def list_tasks():\n",
        "    \"\"\"\n",
        "    List all current tasks in the task list.\n",
        "\n",
        "    >>> tasks.clear()\n",
        "    >>> add_task(\"A\")\n",
        "    Added: A\n",
        "    >>> list_tasks()\n",
        "    1: A\n",
        "    \"\"\"\n",
        "    if not tasks:\n",
        "        print(\"No tasks available.\")\n",
        "    else:\n",
        "        for i, t in enumerate(tasks):\n",
        "            print(f\"{i+1}: {t}\")\n",
        "\n",
        "\n",
        "def main():\n",
        "    \"\"\"\n",
        "    Main function to test task manager (not doctested).\n",
        "    \"\"\"\n",
        "    add_task(\"Buy milk\")\n",
        "    add_task(\"Pay bills\")\n",
        "    add_task(\"Walk dog\")\n",
        "    list_tasks()\n",
        "    remove_task(1)\n",
        "    list_tasks()  # Fixed typo: was list_task()\n",
        "\n",
        "if __name__ == \"__main__\":\n",
        "    import doctest\n",
        "    doctest.testmod()\n",
        "    main()\n"
      ]
    },
    {
      "cell_type": "code",
      "source": [],
      "metadata": {
        "id": "wKLwYdTQv0YI"
      },
      "execution_count": null,
      "outputs": []
    }
  ]
}